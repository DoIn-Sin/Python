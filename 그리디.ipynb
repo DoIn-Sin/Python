{
 "cells": [
  {
   "cell_type": "markdown",
   "metadata": {},
   "source": [
    "# 1. 거스름돈 걸러주기 (그리디)"
   ]
  },
  {
   "cell_type": "markdown",
   "metadata": {},
   "source": [
    "### 거스름돈으로 사용할 돈은 500, 100, 50, 10원이다. 손님에게 거슬러줘야할 돈을 N이라고 할 때, 최소한으로 거슬러줄 수 있는 동전의 개수를 구하시오.(단, N은 10의 배수이다.)"
   ]
  },
  {
   "cell_type": "code",
   "execution_count": 5,
   "metadata": {},
   "outputs": [
    {
     "name": "stdout",
     "output_type": "stream",
     "text": [
      "6\n"
     ]
    }
   ],
   "source": [
    "N = 1260 # N을 1260원 이라고 가정함.\n",
    "count = 0\n",
    "money = [500, 100, 50, 10]\n",
    "\n",
    "for i in money:\n",
    "    count += N // i\n",
    "    N %= i\n",
    "\n",
    "print(count)"
   ]
  },
  {
   "cell_type": "markdown",
   "metadata": {},
   "source": [
    "# 2. 가장 큰 수를 찾는 경우의 덧셈결과 출력하기 (그리디)"
   ]
  },
  {
   "cell_type": "markdown",
   "metadata": {},
   "source": [
    "### 길이가 N인 정수형 배열에서 총 M번 더하여 가장 큰 수가 되는 경우를 찾으려고 한다. 이때, 배열의 한 숫자 당 중복 가능 횟수는 K이다. 예를들어 N, M, K 가 6, 7, 3이고 배열이 [1, 2, 3, 4, 5, 6]이면, 6+6+6+5+6+6+6=41이다."
   ]
  },
  {
   "cell_type": "code",
   "execution_count": 3,
   "metadata": {},
   "outputs": [
    {
     "name": "stdout",
     "output_type": "stream",
     "text": [
      "N(배열의 길이), M(총 덧셈 횟수), K(중복가능 횟수) 를 입력하세요 : (단, 공백으로 구분하여 입력)5 8 3\n",
      "5번 숫자를 입력하세요 : (단, 공백으로 구분하여 입력)2 4 5 4 6\n",
      "가장 큰 수를 찾은 결과는 46 입니다.\n"
     ]
    }
   ],
   "source": [
    "# N, M ,K를 공백 구분으로 입력받기\n",
    "N, M, K = map(int, input('N(배열의 길이), M(총 덧셈 횟수), K(중복가능 횟수) 를 입력하세요 : (단, 공백으로 구분하여 입력)').split())\n",
    "# N 크기의 배열을 공백 구분으로 입력받기\n",
    "num = list(map(int, input('%d번 숫자를 입력하세요 : (단, 공백으로 구분하여 입력)'%N).split()))\n",
    "\n",
    "count = 0\n",
    "result = 0\n",
    "\n",
    "num.sort(reverse=True)\n",
    "\n",
    "for i in range(M):\n",
    "    if count == K :\n",
    "        count = 0\n",
    "        result += num[1]\n",
    "    else : \n",
    "        result += num[0]\n",
    "        count += 1\n",
    "\n",
    "print('가장 큰 수를 찾은 결과는 %d 입니다.'%result)"
   ]
  },
  {
   "cell_type": "markdown",
   "metadata": {},
   "source": [
    "# 3. 숫자 카드 게임 (그리디)"
   ]
  },
  {
   "cell_type": "markdown",
   "metadata": {},
   "source": [
    "### 다음의 룰을 따라 가장 큰 수가 적힌 숫자 카드를 뽑으시오.\n",
    "### 1. 숫자 카드는 N x M의 형태이다.\n",
    "### 2. 뽑을 카드의 행을 고른다.\n",
    "### 3. 행에 포함된 카드 중에 가장 작은 수가 적힌 카드를 뽑는다.\n",
    "### 4. 뽑을 수 있는 모든 경우 중에서 가장 큰 수가 적힌 카드를 뽑은 경우 승리."
   ]
  },
  {
   "cell_type": "code",
   "execution_count": 13,
   "metadata": {},
   "outputs": [
    {
     "name": "stdout",
     "output_type": "stream",
     "text": [
      "카드는 N x M 의 형태입니다. N과 M을 입력하세요 : (입력 예시 : 3,3) -> 2,2\n",
      "1행의 숫자 카드를 입력합니다.\n",
      "숫자 카드를 2번 입력하세요 :1,2\n",
      "2행의 숫자 카드를 입력합니다.\n",
      "숫자 카드를 2번 입력하세요 :4,5\n",
      "가장 큰 숫자가 적힌 숫자 카드는 4 입니다.\n"
     ]
    }
   ],
   "source": [
    "N, M = map(int, input('카드는 N x M 의 형태입니다. N과 M을 입력하세요 : (입력 예시 : 3,3) -> ').split(','))\n",
    "max_val = 0\n",
    "\n",
    "for i in range(N) : \n",
    "    print('%d행의 숫자 카드를 입력합니다.'%(i+1))\n",
    "    arr = list(map(int, input('숫자 카드를 %d번 입력하세요 :'%M).split(',')))\n",
    "    min_val = min(arr)\n",
    "    max_val = max(max_val, min_val)\n",
    "    \n",
    "print('가장 큰 숫자가 적힌 숫자 카드는 %d 입니다.'%max_val)"
   ]
  },
  {
   "cell_type": "markdown",
   "metadata": {},
   "source": [
    "# 4. 1로 만들기 (그리디)"
   ]
  },
  {
   "cell_type": "markdown",
   "metadata": {},
   "source": [
    "### 어떠한 수 N, K를 입력받아 N에서 1을 빼고, N을 K로 나눠 최종적으로 N을 1로 만들려고 한다. 이때, N을 1로 만드는데 실행한 과정 횟수를 구하시오. (단, K로 나누는 경우는 N이 K로 나누어떨어질때만 실행한다.)"
   ]
  },
  {
   "cell_type": "code",
   "execution_count": 17,
   "metadata": {},
   "outputs": [
    {
     "name": "stdout",
     "output_type": "stream",
     "text": [
      "숫자 N과 나누는 수 K를 입력하세요 : (입력예시 : 4,2) -> 4,2\n",
      "1로 만드는데 걸린 과정은 2번 입니다.\n"
     ]
    }
   ],
   "source": [
    "N, K = map(int, input('숫자 N과 나누는 수 K를 입력하세요 : (입력예시 : 4,2) -> ').split(','))\n",
    "while True :\n",
    "    if K > N :\n",
    "        print('K는 N보다 클 수 없습니다.')\n",
    "        N, K = map(int, input('숫자 N과 나누는 수 K를 입력하세요 : (입력예시 : 4,2) -> ').split(','))\n",
    "    else :\n",
    "        break\n",
    "        \n",
    "count = 0\n",
    "\n",
    "while True:\n",
    "    if N != 1:\n",
    "        if N % K == 0:\n",
    "            N /= K\n",
    "            count += 1\n",
    "        else : \n",
    "            N -=  1\n",
    "            count += 1\n",
    "    else : \n",
    "        break\n",
    "print('1로 만드는데 걸린 과정은 %d번 입니다.'%count)"
   ]
  },
  {
   "cell_type": "code",
   "execution_count": null,
   "metadata": {},
   "outputs": [],
   "source": []
  }
 ],
 "metadata": {
  "jupytext": {
   "formats": "ipynb,py:light"
  },
  "kernelspec": {
   "display_name": "Python 3",
   "language": "python",
   "name": "python3"
  },
  "language_info": {
   "codemirror_mode": {
    "name": "ipython",
    "version": 3
   },
   "file_extension": ".py",
   "mimetype": "text/x-python",
   "name": "python",
   "nbconvert_exporter": "python",
   "pygments_lexer": "ipython3",
   "version": "3.8.3"
  }
 },
 "nbformat": 4,
 "nbformat_minor": 4
}
